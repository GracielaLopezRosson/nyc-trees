{
 "cells": [
  {
   "cell_type": "markdown",
   "metadata": {},
   "source": [
    "**Test for NYC trees assignment**\n",
    "\n",
    "To start I use download.py to get a smaller dataset (only 10000 instead of the original with 100000 rows)\n",
    "My new dataset is data_10000.csv\n",
    "(see second cell where I read the data, 10000 values takes 66 ms, while 100000 values takes 588)"
   ]
  },
  {
   "cell_type": "code",
   "execution_count": 1,
   "metadata": {},
   "outputs": [],
   "source": [
    "#Import the necessary libraries\n",
    "import pandas as pd\n",
    "import matplotlib.pyplot as plt\n",
    "import seaborn as sns"
   ]
  },
  {
   "cell_type": "code",
   "execution_count": 2,
   "metadata": {
    "scrolled": true
   },
   "outputs": [
    {
     "name": "stdout",
     "output_type": "stream",
     "text": [
      "<class 'pandas.core.frame.DataFrame'>\n",
      "RangeIndex: 10000 entries, 0 to 9999\n",
      "Data columns (total 42 columns):\n",
      " #   Column      Non-Null Count  Dtype  \n",
      "---  ------      --------------  -----  \n",
      " 0   created_at  10000 non-null  object \n",
      " 1   tree_id     10000 non-null  int64  \n",
      " 2   block_id    10000 non-null  int64  \n",
      " 3   the_geom    10000 non-null  object \n",
      " 4   tree_dbh    10000 non-null  int64  \n",
      " 5   stump_diam  10000 non-null  int64  \n",
      " 6   curb_loc    10000 non-null  object \n",
      " 7   status      10000 non-null  object \n",
      " 8   health      9415 non-null   object \n",
      " 9   spc_latin   9415 non-null   object \n",
      " 10  spc_common  9415 non-null   object \n",
      " 11  steward     9415 non-null   object \n",
      " 12  guards      9415 non-null   object \n",
      " 13  sidewalk    9415 non-null   object \n",
      " 14  user_type   10000 non-null  object \n",
      " 15  problems    9415 non-null   object \n",
      " 16  root_stone  10000 non-null  object \n",
      " 17  root_grate  10000 non-null  object \n",
      " 18  root_other  10000 non-null  object \n",
      " 19  trnk_wire   10000 non-null  object \n",
      " 20  trnk_light  10000 non-null  object \n",
      " 21  trnk_other  10000 non-null  object \n",
      " 22  brnch_ligh  10000 non-null  object \n",
      " 23  brnch_shoe  10000 non-null  object \n",
      " 24  brnch_othe  10000 non-null  object \n",
      " 25  address     10000 non-null  object \n",
      " 26  zipcode     10000 non-null  int64  \n",
      " 27  zip_city    10000 non-null  object \n",
      " 28  cb_num      10000 non-null  int64  \n",
      " 29  borocode    10000 non-null  int64  \n",
      " 30  boroname    10000 non-null  object \n",
      " 31  cncldist    10000 non-null  int64  \n",
      " 32  st_assem    10000 non-null  int64  \n",
      " 33  st_senate   10000 non-null  int64  \n",
      " 34  nta         10000 non-null  object \n",
      " 35  nta_name    10000 non-null  object \n",
      " 36  boro_ct     10000 non-null  int64  \n",
      " 37  state       10000 non-null  object \n",
      " 38  latitude    10000 non-null  float64\n",
      " 39  longitude   10000 non-null  float64\n",
      " 40  x_sp        10000 non-null  float64\n",
      " 41  y_sp        10000 non-null  float64\n",
      "dtypes: float64(4), int64(11), object(27)\n",
      "memory usage: 3.2+ MB\n"
     ]
    }
   ],
   "source": [
    "#Open & check the data\n",
    "\n",
    "trees = pd.read_csv(\"data_10000.csv\")\n",
    "##%timeit 66 ms ± 3.95 ms per loop (mean ± std. dev. of 7 runs, 10 loops each)\n",
    "\n",
    "#%timeit trees = pd.read_csv(\"data_100000.csv\")\n",
    "#588 ms ± 8.29 ms per loop (mean ± std. dev. of 7 runs, 1 loop each)\n",
    "trees.info()"
   ]
  },
  {
   "cell_type": "markdown",
   "metadata": {},
   "source": [
    "Seeing that, things to do:\n",
    "\n",
    "0 created at : it should be a date..."
   ]
  },
  {
   "cell_type": "code",
   "execution_count": 3,
   "metadata": {
    "scrolled": true
   },
   "outputs": [
    {
     "data": {
      "text/html": [
       "<div>\n",
       "<style scoped>\n",
       "    .dataframe tbody tr th:only-of-type {\n",
       "        vertical-align: middle;\n",
       "    }\n",
       "\n",
       "    .dataframe tbody tr th {\n",
       "        vertical-align: top;\n",
       "    }\n",
       "\n",
       "    .dataframe thead th {\n",
       "        text-align: right;\n",
       "    }\n",
       "</style>\n",
       "<table border=\"1\" class=\"dataframe\">\n",
       "  <thead>\n",
       "    <tr style=\"text-align: right;\">\n",
       "      <th></th>\n",
       "      <th>created_at</th>\n",
       "      <th>tree_id</th>\n",
       "      <th>block_id</th>\n",
       "      <th>the_geom</th>\n",
       "      <th>tree_dbh</th>\n",
       "      <th>stump_diam</th>\n",
       "      <th>curb_loc</th>\n",
       "      <th>status</th>\n",
       "      <th>health</th>\n",
       "      <th>spc_latin</th>\n",
       "      <th>...</th>\n",
       "      <th>st_assem</th>\n",
       "      <th>st_senate</th>\n",
       "      <th>nta</th>\n",
       "      <th>nta_name</th>\n",
       "      <th>boro_ct</th>\n",
       "      <th>state</th>\n",
       "      <th>latitude</th>\n",
       "      <th>longitude</th>\n",
       "      <th>x_sp</th>\n",
       "      <th>y_sp</th>\n",
       "    </tr>\n",
       "  </thead>\n",
       "  <tbody>\n",
       "    <tr>\n",
       "      <th>0</th>\n",
       "      <td>08/27/2015</td>\n",
       "      <td>180683</td>\n",
       "      <td>348711</td>\n",
       "      <td>POINT (-73.84421521958048 40.723091773924274)</td>\n",
       "      <td>3</td>\n",
       "      <td>0</td>\n",
       "      <td>OnCurb</td>\n",
       "      <td>Alive</td>\n",
       "      <td>Fair</td>\n",
       "      <td>Acer rubrum</td>\n",
       "      <td>...</td>\n",
       "      <td>28</td>\n",
       "      <td>16</td>\n",
       "      <td>QN17</td>\n",
       "      <td>Forest Hills</td>\n",
       "      <td>4073900</td>\n",
       "      <td>New York</td>\n",
       "      <td>40.723092</td>\n",
       "      <td>-73.844215</td>\n",
       "      <td>1.027431e+06</td>\n",
       "      <td>202756.768749</td>\n",
       "    </tr>\n",
       "    <tr>\n",
       "      <th>1</th>\n",
       "      <td>09/03/2015</td>\n",
       "      <td>200540</td>\n",
       "      <td>315986</td>\n",
       "      <td>POINT (-73.81867945834878 40.79411066708779)</td>\n",
       "      <td>21</td>\n",
       "      <td>0</td>\n",
       "      <td>OnCurb</td>\n",
       "      <td>Alive</td>\n",
       "      <td>Fair</td>\n",
       "      <td>Quercus palustris</td>\n",
       "      <td>...</td>\n",
       "      <td>27</td>\n",
       "      <td>11</td>\n",
       "      <td>QN49</td>\n",
       "      <td>Whitestone</td>\n",
       "      <td>4097300</td>\n",
       "      <td>New York</td>\n",
       "      <td>40.794111</td>\n",
       "      <td>-73.818679</td>\n",
       "      <td>1.034456e+06</td>\n",
       "      <td>228644.837379</td>\n",
       "    </tr>\n",
       "    <tr>\n",
       "      <th>2</th>\n",
       "      <td>09/05/2015</td>\n",
       "      <td>204026</td>\n",
       "      <td>218365</td>\n",
       "      <td>POINT (-73.93660770459083 40.717580740099116)</td>\n",
       "      <td>3</td>\n",
       "      <td>0</td>\n",
       "      <td>OnCurb</td>\n",
       "      <td>Alive</td>\n",
       "      <td>Good</td>\n",
       "      <td>Gleditsia triacanthos var. inermis</td>\n",
       "      <td>...</td>\n",
       "      <td>50</td>\n",
       "      <td>18</td>\n",
       "      <td>BK90</td>\n",
       "      <td>East Williamsburg</td>\n",
       "      <td>3044900</td>\n",
       "      <td>New York</td>\n",
       "      <td>40.717581</td>\n",
       "      <td>-73.936608</td>\n",
       "      <td>1.001823e+06</td>\n",
       "      <td>200716.891267</td>\n",
       "    </tr>\n",
       "  </tbody>\n",
       "</table>\n",
       "<p>3 rows × 42 columns</p>\n",
       "</div>"
      ],
      "text/plain": [
       "   created_at  tree_id  block_id  \\\n",
       "0  08/27/2015   180683    348711   \n",
       "1  09/03/2015   200540    315986   \n",
       "2  09/05/2015   204026    218365   \n",
       "\n",
       "                                        the_geom  tree_dbh  stump_diam  \\\n",
       "0  POINT (-73.84421521958048 40.723091773924274)         3           0   \n",
       "1   POINT (-73.81867945834878 40.79411066708779)        21           0   \n",
       "2  POINT (-73.93660770459083 40.717580740099116)         3           0   \n",
       "\n",
       "  curb_loc status health                           spc_latin  ... st_assem  \\\n",
       "0   OnCurb  Alive   Fair                         Acer rubrum  ...       28   \n",
       "1   OnCurb  Alive   Fair                   Quercus palustris  ...       27   \n",
       "2   OnCurb  Alive   Good  Gleditsia triacanthos var. inermis  ...       50   \n",
       "\n",
       "  st_senate   nta           nta_name  boro_ct     state   latitude  longitude  \\\n",
       "0        16  QN17       Forest Hills  4073900  New York  40.723092 -73.844215   \n",
       "1        11  QN49         Whitestone  4097300  New York  40.794111 -73.818679   \n",
       "2        18  BK90  East Williamsburg  3044900  New York  40.717581 -73.936608   \n",
       "\n",
       "           x_sp           y_sp  \n",
       "0  1.027431e+06  202756.768749  \n",
       "1  1.034456e+06  228644.837379  \n",
       "2  1.001823e+06  200716.891267  \n",
       "\n",
       "[3 rows x 42 columns]"
      ]
     },
     "execution_count": 3,
     "metadata": {},
     "output_type": "execute_result"
    }
   ],
   "source": [
    "trees.head(3)"
   ]
  },
  {
   "cell_type": "code",
   "execution_count": 31,
   "metadata": {},
   "outputs": [
    {
     "data": {
      "text/plain": [
       "(10000, 42)"
      ]
     },
     "execution_count": 31,
     "metadata": {},
     "output_type": "execute_result"
    }
   ],
   "source": [
    "trees.shape"
   ]
  },
  {
   "cell_type": "markdown",
   "metadata": {},
   "source": [
    "In order to get some insight about the data, I check the website of the dataset:\n",
    "\n",
    "https://data.cityofnewyork.us/Environment/2015-Street-Tree-Census-Tree-Data/uvpi-gqnh\n",
    "\n"
   ]
  },
  {
   "cell_type": "code",
   "execution_count": 15,
   "metadata": {},
   "outputs": [
    {
     "data": {
      "text/plain": [
       "created_at      0\n",
       "tree_id         0\n",
       "block_id        0\n",
       "the_geom        0\n",
       "tree_dbh        0\n",
       "stump_diam      0\n",
       "curb_loc        0\n",
       "status          0\n",
       "health        585\n",
       "spc_latin     585\n",
       "spc_common    585\n",
       "steward       585\n",
       "guards        585\n",
       "sidewalk      585\n",
       "user_type       0\n",
       "problems      585\n",
       "root_stone      0\n",
       "root_grate      0\n",
       "root_other      0\n",
       "trnk_wire       0\n",
       "trnk_light      0\n",
       "trnk_other      0\n",
       "brnch_ligh      0\n",
       "brnch_shoe      0\n",
       "brnch_othe      0\n",
       "address         0\n",
       "zipcode         0\n",
       "zip_city        0\n",
       "cb_num          0\n",
       "borocode        0\n",
       "boroname        0\n",
       "cncldist        0\n",
       "st_assem        0\n",
       "st_senate       0\n",
       "nta             0\n",
       "nta_name        0\n",
       "boro_ct         0\n",
       "state           0\n",
       "latitude        0\n",
       "longitude       0\n",
       "x_sp            0\n",
       "y_sp            0\n",
       "dtype: int64"
      ]
     },
     "execution_count": 15,
     "metadata": {},
     "output_type": "execute_result"
    }
   ],
   "source": [
    "#trees.isna().sum() #useless, the columns with nan are the ones that are objects type!"
   ]
  },
  {
   "cell_type": "code",
   "execution_count": 24,
   "metadata": {},
   "outputs": [
    {
     "data": {
      "text/plain": [
       "10306    448\n",
       "11105    355\n",
       "11375    263\n",
       "10457    250\n",
       "11215    247\n",
       "        ... \n",
       "11360      1\n",
       "11004      1\n",
       "10035      1\n",
       "10469      1\n",
       "10115      1\n",
       "Name: zipcode, Length: 160, dtype: int64"
      ]
     },
     "execution_count": 24,
     "metadata": {},
     "output_type": "execute_result"
    }
   ],
   "source": [
    "#trees.zipcode.value_counts()"
   ]
  },
  {
   "cell_type": "code",
   "execution_count": 27,
   "metadata": {},
   "outputs": [
    {
     "data": {
      "text/plain": [
       "array(['red maple', 'pin oak', 'honeylocust', 'American linden',\n",
       "       'London planetree', 'ginkgo', 'willow oak', 'sycamore maple',\n",
       "       'Amur maple', nan, 'hedge maple', 'American elm', 'ash',\n",
       "       'crab apple', 'silver maple', 'Turkish hazelnut', 'black cherry',\n",
       "       'eastern redcedar', 'Norway maple', 'tulip-poplar', 'sawtooth oak',\n",
       "       'Sophora', 'swamp white oak', 'Chinese fringetree',\n",
       "       'southern magnolia', 'sweetgum', 'Callery pear', 'scarlet oak',\n",
       "       'Atlantic white cedar', 'black oak', 'Japanese zelkova',\n",
       "       'white oak', 'Ohio buckeye', 'northern red oak', 'silver linden',\n",
       "       'pignut hickory', 'Kentucky yellowwood', 'mulberry', 'Douglas-fir',\n",
       "       'crepe myrtle', 'sassafras', 'spruce', 'Chinese elm',\n",
       "       'horse chestnut', 'holly', 'littleleaf linden', 'white pine',\n",
       "       'blackgum', 'cherry', 'Japanese tree lilac', 'hardy rubber tree',\n",
       "       'green ash', 'English oak', 'white ash', 'golden raintree',\n",
       "       \"Schumard's oak\", 'Siberian elm', 'black walnut', 'weeping willow',\n",
       "       'katsura tree', 'black locust', 'Persian ironwood',\n",
       "       'Cornelian cherry', 'Chinese chestnut', 'southern red oak',\n",
       "       'purple-leaf plum', 'crimson king maple', 'Kentucky coffeetree',\n",
       "       'Japanese snowbell', 'sugar maple', 'arborvitae',\n",
       "       'Oklahoma redbud', 'tree of heaven', 'Chinese tree lilac',\n",
       "       'American hornbeam', 'eastern cottonwood', 'eastern hemlock',\n",
       "       'silver birch', 'Atlas cedar', 'empress tree', 'hawthorn',\n",
       "       \"'Schubert' chokecherry\", 'catalpa', 'river birch', 'boxelder',\n",
       "       'European beech', 'Norway spruce', 'Himalayan cedar',\n",
       "       'Amur cork tree', 'Japanese maple', 'shingle oak', 'magnolia',\n",
       "       'smoketree', 'paper birch', 'American beech',\n",
       "       'American hophornbeam', 'American larch', 'pond cypress',\n",
       "       'cockspur hawthorn', 'dawn redwood', 'common hackberry',\n",
       "       'flowering dogwood', 'kousa dogwood', 'maple', 'eastern redbud',\n",
       "       'bald cypress', 'cucumber magnolia', 'serviceberry',\n",
       "       'Osage-orange', 'paperbark maple', 'red pine'], dtype=object)"
      ]
     },
     "execution_count": 27,
     "metadata": {},
     "output_type": "execute_result"
    }
   ],
   "source": [
    "trees[trees.columns[10]].unique() #thus probably with regex, change the names, all with no capital letters"
   ]
  },
  {
   "cell_type": "code",
   "execution_count": 29,
   "metadata": {
    "scrolled": false
   },
   "outputs": [
    {
     "data": {
      "text/plain": [
       "array(['Acer rubrum', 'Quercus palustris',\n",
       "       'Gleditsia triacanthos var. inermis', 'Tilia americana',\n",
       "       'Platanus x acerifolia', 'Ginkgo biloba', 'Quercus phellos',\n",
       "       'Acer pseudoplatanus', 'Acer ginnala', nan, 'Acer campestre',\n",
       "       'Ulmus americana', 'Fraxinus', 'Malus', 'Acer saccharinum',\n",
       "       'Corylus colurna', 'Prunus serotina', 'Juniperus virginiana',\n",
       "       'Acer platanoides', 'Liriodendron tulipifera',\n",
       "       'Quercus acutissima', 'Styphnolobium japonicum', 'Quercus bicolor',\n",
       "       'Chionanthus retusus', 'Magnolia grandiflora',\n",
       "       'Liquidambar styraciflua', 'Pyrus calleryana', 'Quercus coccinea',\n",
       "       'Chamaecyparis thyoides', 'Quercus velutina', 'Zelkova serrata',\n",
       "       'Quercus alba', 'Aesculus glabra', 'Quercus rubra',\n",
       "       'Tilia tomentosa', 'Carya glabra', 'Cladrastis kentukea', 'Morus',\n",
       "       'Pseudotsuga menziesii', 'Lagerstroemia', 'Sassafras albidum',\n",
       "       'Picea', 'Ulmus parvifolia', 'Aesculus hippocastanum', 'Ilex',\n",
       "       'Tilia cordata', 'Pinus strobus', 'Nyssa sylvatica', 'Prunus',\n",
       "       'Syringa reticulata', 'Eucommia ulmoides',\n",
       "       'Fraxinus pennsylvanica', 'Quercus robur', 'Fraxinus americana',\n",
       "       'Koelreuteria paniculata', 'Quercus shumardii', 'Ulmus pumila',\n",
       "       'Juglans nigra', 'Salix babylonica', 'Cercidiphyllum japonicum',\n",
       "       'Robinia pseudoacacia', 'Parrotia persica', 'Cornus mas',\n",
       "       'Castanea mollissima', 'Quercus falcata', 'Prunus cerasifera',\n",
       "       \"Acer platanoides 'Crimson King'\", 'Gymnocladus dioicus',\n",
       "       'Styrax japonicus', 'Acer saccharum', 'Thuja occidentalis',\n",
       "       'Cercis reniformis', 'Ailanthus altissima', 'Syringa pekinensis',\n",
       "       'Carpinus caroliniana', 'Populus deltoides', 'Tsuga canadensis',\n",
       "       'Betula pendula', 'Cedrus atlantica', 'Paulownia tomentosa',\n",
       "       'Crataegus', 'Prunus virginiana', 'Catalpa', 'Betula nigra',\n",
       "       'Acer negundo', 'Fagus sylvatica', 'Picea abies', 'Cedrus deodara',\n",
       "       'Phellodendron amurense', 'Acer palmatum', 'Quercus imbricaria',\n",
       "       'Magnolia', 'Cotinus coggygria', 'Betula papyrifera',\n",
       "       'Fagus grandifolia', 'Ostrya virginiana', 'Larix laricina',\n",
       "       'Taxodium ascendens', 'Crataegus crusgalli var. inermis',\n",
       "       'Metasequoia glyptostroboides', 'Celtis occidentalis',\n",
       "       'Cornus florida', 'Cornus kousa', 'Acer', 'Cercis canadensis',\n",
       "       'Taxodium distichum', 'Magnolia acuminata', 'Amelanchier',\n",
       "       'Maclura pomifera', 'Acer griseum', 'Pinus resinosa'], dtype=object)"
      ]
     },
     "execution_count": 29,
     "metadata": {},
     "output_type": "execute_result"
    }
   ],
   "source": [
    "trees[trees.columns[9]].unique()"
   ]
  },
  {
   "cell_type": "markdown",
   "metadata": {},
   "source": [
    "Coach said:\n",
    "    For machine learning purposes, you can get rid of all redundant data. \n",
    "    Also, any column that can be reproduced using another one, can be dropped too."
   ]
  },
  {
   "cell_type": "markdown",
   "metadata": {},
   "source": [
    "Thus, the_geo can be dropped."
   ]
  },
  {
   "cell_type": "code",
   "execution_count": 35,
   "metadata": {},
   "outputs": [
    {
     "data": {
      "text/plain": [
       "array(['None', 'Stones', 'MetalGrates', 'RootOther', 'Stones,BranchOther',\n",
       "       'TrunkLights,BranchLights', 'RootOther,TrunkOther,BranchOther',\n",
       "       'BranchOther', 'Stones,BranchLights', 'TrunkOther,BranchLights',\n",
       "       'MetalGrates,TrunkOther', 'TrunkOther', 'Stones,WiresRope',\n",
       "       'BranchLights', nan, 'WiresRope,BranchOther',\n",
       "       'RootOther,BranchOther', 'Stones,WiresRope,BranchLights',\n",
       "       'WiresRope', 'WiresRope,BranchLights', 'Stones,TrunkOther',\n",
       "       'WiresRope,TrunkLights,BranchLights', 'Stones,RootOther',\n",
       "       'Stones,BranchLights,BranchOther', 'Stones,RootOther,BranchLights',\n",
       "       'MetalGrates,BranchOther', 'Stones,RootOther,TrunkOther',\n",
       "       'RootOther,TrunkOther',\n",
       "       'Stones,TrunkOther,BranchLights,BranchOther',\n",
       "       'Stones,TrunkOther,BranchOther', 'RootOther,BranchLights',\n",
       "       'TrunkOther,BranchOther', 'RootOther,WiresRope,BranchLights',\n",
       "       'Stones,TrunkOther,BranchLights', 'BranchLights,Sneakers',\n",
       "       'Stones,RootOther,TrunkOther,BranchLights',\n",
       "       'MetalGrates,TrunkOther,BranchOther', 'TrunkLights,BranchOther',\n",
       "       'TrunkLights', 'Stones,RootOther,BranchOther',\n",
       "       'RootOther,WiresRope', 'BranchLights,BranchOther',\n",
       "       'Stones,MetalGrates', 'RootOther,TrunkOther,BranchLights',\n",
       "       'Stones,WiresRope,TrunkOther,BranchLights',\n",
       "       'WiresRope,TrunkOther,BranchOther',\n",
       "       'RootOther,WiresRope,TrunkOther,BranchLights',\n",
       "       'RootOther,TrunkOther,BranchLights,BranchOther',\n",
       "       'MetalGrates,RootOther,TrunkOther', 'Stones,WiresRope,TrunkOther',\n",
       "       'MetalGrates,RootOther,TrunkOther,BranchOther',\n",
       "       'Stones,RootOther,WiresRope,BranchLights', 'WiresRope,TrunkOther',\n",
       "       'RootOther,WiresRope,TrunkOther', 'MetalGrates,WiresRope',\n",
       "       'Stones,RootOther,WiresRope,TrunkOther',\n",
       "       'Stones,RootOther,TrunkOther,BranchOther',\n",
       "       'Stones,WiresRope,BranchOther',\n",
       "       'RootOther,BranchLights,BranchOther',\n",
       "       'Stones,RootOther,WiresRope,TrunkLights,BranchLights',\n",
       "       'RootOther,WiresRope,TrunkOther,BranchLights,BranchOther',\n",
       "       'WiresRope,TrunkOther,BranchLights,BranchOther',\n",
       "       'Stones,RootOther,WiresRope,BranchOther', 'MetalGrates,RootOther',\n",
       "       'Stones,TrunkLights', 'Stones,MetalGrates,WiresRope,BranchLights',\n",
       "       'Stones,WiresRope,BranchLights,BranchOther',\n",
       "       'TrunkOther,BranchLights,BranchOther', 'TrunkLights,TrunkOther',\n",
       "       'Stones,RootOther,TrunkLights,BranchLights',\n",
       "       'Stones,TrunkLights,BranchLights',\n",
       "       'WiresRope,BranchLights,BranchOther', 'WiresRope,TrunkLights',\n",
       "       'Stones,RootOther,TrunkOther,BranchLights,BranchOther',\n",
       "       'TrunkOther,Sneakers',\n",
       "       'RootOther,WiresRope,TrunkOther,BranchOther',\n",
       "       'RootOther,TrunkLights,BranchLights', 'RootOther,Sneakers',\n",
       "       'Stones,RootOther,Sneakers,BranchOther',\n",
       "       'MetalGrates,WiresRope,BranchOther',\n",
       "       'RootOther,TrunkLights,BranchOther',\n",
       "       'RootOther,WiresRope,BranchOther',\n",
       "       'Stones,RootOther,WiresRope,TrunkOther,BranchLights,BranchOther',\n",
       "       'MetalGrates,BranchLights',\n",
       "       'Stones,TrunkLights,BranchLights,BranchOther',\n",
       "       'Stones,MetalGrates,RootOther'], dtype=object)"
      ]
     },
     "execution_count": 35,
     "metadata": {},
     "output_type": "execute_result"
    }
   ],
   "source": [
    "trees[trees.columns[15]].unique()"
   ]
  },
  {
   "cell_type": "code",
   "execution_count": 4,
   "metadata": {},
   "outputs": [
    {
     "name": "stdout",
     "output_type": "stream",
     "text": [
      "<class 'pandas.core.frame.DataFrame'>\n",
      "RangeIndex: 10000 entries, 0 to 9999\n",
      "Data columns (total 42 columns):\n",
      " #   Column      Non-Null Count  Dtype  \n",
      "---  ------      --------------  -----  \n",
      " 0   created_at  10000 non-null  object \n",
      " 1   tree_id     10000 non-null  int64  \n",
      " 2   block_id    10000 non-null  int64  \n",
      " 3   the_geom    10000 non-null  object \n",
      " 4   tree_dbh    10000 non-null  int64  \n",
      " 5   stump_diam  10000 non-null  int64  \n",
      " 6   curb_loc    10000 non-null  object \n",
      " 7   status      10000 non-null  object \n",
      " 8   health      9415 non-null   object \n",
      " 9   spc_latin   9415 non-null   object \n",
      " 10  spc_common  9415 non-null   object \n",
      " 11  steward     9415 non-null   object \n",
      " 12  guards      9415 non-null   object \n",
      " 13  sidewalk    9415 non-null   object \n",
      " 14  user_type   10000 non-null  object \n",
      " 15  problems    9415 non-null   object \n",
      " 16  root_stone  10000 non-null  object \n",
      " 17  root_grate  10000 non-null  object \n",
      " 18  root_other  10000 non-null  object \n",
      " 19  trnk_wire   10000 non-null  object \n",
      " 20  trnk_light  10000 non-null  object \n",
      " 21  trnk_other  10000 non-null  object \n",
      " 22  brnch_ligh  10000 non-null  object \n",
      " 23  brnch_shoe  10000 non-null  object \n",
      " 24  brnch_othe  10000 non-null  object \n",
      " 25  address     10000 non-null  object \n",
      " 26  zipcode     10000 non-null  int64  \n",
      " 27  zip_city    10000 non-null  object \n",
      " 28  cb_num      10000 non-null  int64  \n",
      " 29  borocode    10000 non-null  int64  \n",
      " 30  boroname    10000 non-null  object \n",
      " 31  cncldist    10000 non-null  int64  \n",
      " 32  st_assem    10000 non-null  int64  \n",
      " 33  st_senate   10000 non-null  int64  \n",
      " 34  nta         10000 non-null  object \n",
      " 35  nta_name    10000 non-null  object \n",
      " 36  boro_ct     10000 non-null  int64  \n",
      " 37  state       10000 non-null  object \n",
      " 38  latitude    10000 non-null  float64\n",
      " 39  longitude   10000 non-null  float64\n",
      " 40  x_sp        10000 non-null  float64\n",
      " 41  y_sp        10000 non-null  float64\n",
      "dtypes: float64(4), int64(11), object(27)\n",
      "memory usage: 3.2+ MB\n"
     ]
    }
   ],
   "source": [
    "trees.info()"
   ]
  },
  {
   "cell_type": "code",
   "execution_count": 5,
   "metadata": {},
   "outputs": [],
   "source": []
  },
  {
   "cell_type": "code",
   "execution_count": 6,
   "metadata": {},
   "outputs": [
    {
     "name": "stdout",
     "output_type": "stream",
     "text": [
      "<class 'pandas.core.frame.DataFrame'>\n",
      "RangeIndex: 10000 entries, 0 to 9999\n",
      "Data columns (total 42 columns):\n",
      " #   Column      Non-Null Count  Dtype  \n",
      "---  ------      --------------  -----  \n",
      " 0   created_at  10000 non-null  string \n",
      " 1   tree_id     10000 non-null  Int64  \n",
      " 2   block_id    10000 non-null  Int64  \n",
      " 3   the_geom    10000 non-null  string \n",
      " 4   tree_dbh    10000 non-null  Int64  \n",
      " 5   stump_diam  10000 non-null  Int64  \n",
      " 6   curb_loc    10000 non-null  string \n",
      " 7   status      10000 non-null  string \n",
      " 8   health      9415 non-null   string \n",
      " 9   spc_latin   9415 non-null   string \n",
      " 10  spc_common  9415 non-null   string \n",
      " 11  steward     9415 non-null   string \n",
      " 12  guards      9415 non-null   string \n",
      " 13  sidewalk    9415 non-null   string \n",
      " 14  user_type   10000 non-null  string \n",
      " 15  problems    9415 non-null   string \n",
      " 16  root_stone  10000 non-null  string \n",
      " 17  root_grate  10000 non-null  string \n",
      " 18  root_other  10000 non-null  string \n",
      " 19  trnk_wire   10000 non-null  string \n",
      " 20  trnk_light  10000 non-null  string \n",
      " 21  trnk_other  10000 non-null  string \n",
      " 22  brnch_ligh  10000 non-null  string \n",
      " 23  brnch_shoe  10000 non-null  string \n",
      " 24  brnch_othe  10000 non-null  string \n",
      " 25  address     10000 non-null  string \n",
      " 26  zipcode     10000 non-null  Int64  \n",
      " 27  zip_city    10000 non-null  string \n",
      " 28  cb_num      10000 non-null  Int64  \n",
      " 29  borocode    10000 non-null  Int64  \n",
      " 30  boroname    10000 non-null  string \n",
      " 31  cncldist    10000 non-null  Int64  \n",
      " 32  st_assem    10000 non-null  Int64  \n",
      " 33  st_senate   10000 non-null  Int64  \n",
      " 34  nta         10000 non-null  string \n",
      " 35  nta_name    10000 non-null  string \n",
      " 36  boro_ct     10000 non-null  Int64  \n",
      " 37  state       10000 non-null  string \n",
      " 38  latitude    10000 non-null  Float64\n",
      " 39  longitude   10000 non-null  Float64\n",
      " 40  x_sp        10000 non-null  Float64\n",
      " 41  y_sp        10000 non-null  Float64\n",
      "dtypes: Float64(4), Int64(11), string(27)\n",
      "memory usage: 3.3 MB\n"
     ]
    }
   ],
   "source": []
  },
  {
   "cell_type": "code",
   "execution_count": 7,
   "metadata": {},
   "outputs": [],
   "source": [
    "#To have the right date type.\n",
    "trees['created_at'] = pd.to_datetime(trees['created_at'])\n"
   ]
  },
  {
   "cell_type": "code",
   "execution_count": 8,
   "metadata": {},
   "outputs": [
    {
     "data": {
      "text/plain": [
       "0      2015-08-27\n",
       "1      2015-09-03\n",
       "2      2015-09-05\n",
       "3      2015-09-05\n",
       "4      2015-08-30\n",
       "          ...    \n",
       "9995   2015-09-06\n",
       "9996   2015-09-06\n",
       "9997   2015-09-10\n",
       "9998   2015-08-31\n",
       "9999   2015-08-31\n",
       "Name: created_at, Length: 10000, dtype: datetime64[ns]"
      ]
     },
     "execution_count": 8,
     "metadata": {},
     "output_type": "execute_result"
    }
   ],
   "source": [
    "trees.created_at"
   ]
  },
  {
   "cell_type": "code",
   "execution_count": 12,
   "metadata": {},
   "outputs": [
    {
     "data": {
      "text/plain": [
       "array(['None', 'Helpful', 'Harmful', 'Unsure', nan], dtype=object)"
      ]
     },
     "execution_count": 12,
     "metadata": {},
     "output_type": "execute_result"
    }
   ],
   "source": [
    "trees[trees.columns[12]].unique()"
   ]
  },
  {
   "cell_type": "code",
   "execution_count": 13,
   "metadata": {},
   "outputs": [
    {
     "data": {
      "text/plain": [
       "585"
      ]
     },
     "execution_count": 13,
     "metadata": {},
     "output_type": "execute_result"
    }
   ],
   "source": [
    "trees.guards.isna().sum()"
   ]
  },
  {
   "cell_type": "code",
   "execution_count": 41,
   "metadata": {},
   "outputs": [
    {
     "data": {
      "text/plain": [
       "array(['Forest Hills', 'Whitestone', 'Brooklyn', 'New York',\n",
       "       'Staten Island', 'Astoria', 'Elmhurst', 'Kew Gardens', 'Ridgewood',\n",
       "       'Bronx', 'Fresh Meadows', 'East Elmhurst', 'Jackson Heights',\n",
       "       'Flushing', 'Rego Park', 'Far Rockaway', 'Corona',\n",
       "       'Springfield Gardens', 'Queens Village', 'Woodhaven',\n",
       "       'Rockaway Park', 'Long Island City', 'Saint Albans', 'Bayside',\n",
       "       'Oakland Gardens', 'Jamaica', 'College Point', 'Little Neck',\n",
       "       'Howard Beach', 'Arverne', 'Richmond Hill', 'Woodside',\n",
       "       'Bellerose', 'Ozone Park', 'Sunnyside', 'South Ozone Park',\n",
       "       'Cambria Heights', 'Rosedale', 'Glen Oaks', 'Central Park'],\n",
       "      dtype=object)"
      ]
     },
     "execution_count": 41,
     "metadata": {},
     "output_type": "execute_result"
    }
   ],
   "source": [
    "trees[trees.columns[27]].unique()"
   ]
  },
  {
   "cell_type": "code",
   "execution_count": 47,
   "metadata": {},
   "outputs": [],
   "source": [
    "#trees[trees.columns[36]].unique()\n",
    "#value_counts()\n",
    "#unique()"
   ]
  },
  {
   "cell_type": "code",
   "execution_count": 31,
   "metadata": {},
   "outputs": [],
   "source": [
    "#trees.loc['Jamaica']"
   ]
  },
  {
   "cell_type": "code",
   "execution_count": 35,
   "metadata": {},
   "outputs": [
    {
     "data": {
      "text/html": [
       "<div>\n",
       "<style scoped>\n",
       "    .dataframe tbody tr th:only-of-type {\n",
       "        vertical-align: middle;\n",
       "    }\n",
       "\n",
       "    .dataframe tbody tr th {\n",
       "        vertical-align: top;\n",
       "    }\n",
       "\n",
       "    .dataframe thead th {\n",
       "        text-align: right;\n",
       "    }\n",
       "</style>\n",
       "<table border=\"1\" class=\"dataframe\">\n",
       "  <thead>\n",
       "    <tr style=\"text-align: right;\">\n",
       "      <th></th>\n",
       "      <th>created_at</th>\n",
       "      <th>tree_id</th>\n",
       "      <th>block_id</th>\n",
       "      <th>the_geom</th>\n",
       "      <th>tree_dbh</th>\n",
       "      <th>stump_diam</th>\n",
       "      <th>curb_loc</th>\n",
       "      <th>status</th>\n",
       "      <th>health</th>\n",
       "      <th>spc_latin</th>\n",
       "      <th>...</th>\n",
       "      <th>st_assem</th>\n",
       "      <th>st_senate</th>\n",
       "      <th>nta</th>\n",
       "      <th>nta_name</th>\n",
       "      <th>boro_ct</th>\n",
       "      <th>state</th>\n",
       "      <th>latitude</th>\n",
       "      <th>longitude</th>\n",
       "      <th>x_sp</th>\n",
       "      <th>y_sp</th>\n",
       "    </tr>\n",
       "  </thead>\n",
       "  <tbody>\n",
       "  </tbody>\n",
       "</table>\n",
       "<p>0 rows × 42 columns</p>\n",
       "</div>"
      ],
      "text/plain": [
       "Empty DataFrame\n",
       "Columns: [created_at, tree_id, block_id, the_geom, tree_dbh, stump_diam, curb_loc, status, health, spc_latin, spc_common, steward, guards, sidewalk, user_type, problems, root_stone, root_grate, root_other, trnk_wire, trnk_light, trnk_other, brnch_ligh, brnch_shoe, brnch_othe, address, zipcode, zip_city, cb_num, borocode, boroname, cncldist, st_assem, st_senate, nta, nta_name, boro_ct, state, latitude, longitude, x_sp, y_sp]\n",
       "Index: []\n",
       "\n",
       "[0 rows x 42 columns]"
      ]
     },
     "execution_count": 35,
     "metadata": {},
     "output_type": "execute_result"
    }
   ],
   "source": [
    "trees[trees.duplicated()]"
   ]
  },
  {
   "cell_type": "code",
   "execution_count": 51,
   "metadata": {},
   "outputs": [
    {
     "data": {
      "text/plain": [
       "No     9996\n",
       "Yes       4\n",
       "Name: brnch_shoe, dtype: int64"
      ]
     },
     "execution_count": 51,
     "metadata": {},
     "output_type": "execute_result"
    }
   ],
   "source": [
    "trees.brnch_shoe =='True'\n",
    "trees.brnch_shoe.value_counts()"
   ]
  },
  {
   "cell_type": "code",
   "execution_count": 54,
   "metadata": {},
   "outputs": [
    {
     "data": {
      "text/plain": [
       "No     8905\n",
       "Yes    1095\n",
       "Name: brnch_ligh, dtype: int64"
      ]
     },
     "execution_count": 54,
     "metadata": {},
     "output_type": "execute_result"
    }
   ],
   "source": [
    "trees.brnch_ligh.value_counts()"
   ]
  },
  {
   "cell_type": "code",
   "execution_count": 57,
   "metadata": {},
   "outputs": [
    {
     "data": {
      "text/plain": [
       "No     8905\n",
       "Yes    1095\n",
       "Name: brnch_ligh, dtype: int64"
      ]
     },
     "execution_count": 57,
     "metadata": {},
     "output_type": "execute_result"
    }
   ],
   "source": [
    "trees.brnch_ligh =='True'\n",
    "trees.brnch_ligh.value_counts()"
   ]
  },
  {
   "cell_type": "code",
   "execution_count": null,
   "metadata": {},
   "outputs": [],
   "source": [
    "df['commissioned'] = df['commissioned'].map(\n",
    "                   {'yes':True ,'no':False})"
   ]
  },
  {
   "cell_type": "code",
   "execution_count": 67,
   "metadata": {},
   "outputs": [],
   "source": [
    "trees['brnch_ligh'] = trees['brnch_ligh'].map({'Yes':True ,'No':False})"
   ]
  },
  {
   "cell_type": "code",
   "execution_count": 72,
   "metadata": {},
   "outputs": [
    {
     "data": {
      "text/html": [
       "<div>\n",
       "<style scoped>\n",
       "    .dataframe tbody tr th:only-of-type {\n",
       "        vertical-align: middle;\n",
       "    }\n",
       "\n",
       "    .dataframe tbody tr th {\n",
       "        vertical-align: top;\n",
       "    }\n",
       "\n",
       "    .dataframe thead th {\n",
       "        text-align: right;\n",
       "    }\n",
       "</style>\n",
       "<table border=\"1\" class=\"dataframe\">\n",
       "  <thead>\n",
       "    <tr style=\"text-align: right;\">\n",
       "      <th></th>\n",
       "      <th>created_at</th>\n",
       "      <th>tree_id</th>\n",
       "      <th>block_id</th>\n",
       "      <th>the_geom</th>\n",
       "      <th>tree_dbh</th>\n",
       "      <th>stump_diam</th>\n",
       "      <th>curb_loc</th>\n",
       "      <th>status</th>\n",
       "      <th>health</th>\n",
       "      <th>spc_latin</th>\n",
       "      <th>...</th>\n",
       "      <th>st_assem</th>\n",
       "      <th>st_senate</th>\n",
       "      <th>nta</th>\n",
       "      <th>nta_name</th>\n",
       "      <th>boro_ct</th>\n",
       "      <th>state</th>\n",
       "      <th>latitude</th>\n",
       "      <th>longitude</th>\n",
       "      <th>x_sp</th>\n",
       "      <th>y_sp</th>\n",
       "    </tr>\n",
       "  </thead>\n",
       "  <tbody>\n",
       "    <tr>\n",
       "      <th>0</th>\n",
       "      <td>2015-08-27</td>\n",
       "      <td>180683</td>\n",
       "      <td>348711</td>\n",
       "      <td>POINT (-73.84421521958048 40.723091773924274)</td>\n",
       "      <td>3</td>\n",
       "      <td>0</td>\n",
       "      <td>OnCurb</td>\n",
       "      <td>Alive</td>\n",
       "      <td>Fair</td>\n",
       "      <td>Acer rubrum</td>\n",
       "      <td>...</td>\n",
       "      <td>28</td>\n",
       "      <td>16</td>\n",
       "      <td>QN17</td>\n",
       "      <td>Forest Hills</td>\n",
       "      <td>4073900</td>\n",
       "      <td>New York</td>\n",
       "      <td>40.723092</td>\n",
       "      <td>-73.844215</td>\n",
       "      <td>1.027431e+06</td>\n",
       "      <td>202756.768749</td>\n",
       "    </tr>\n",
       "    <tr>\n",
       "      <th>1</th>\n",
       "      <td>2015-09-03</td>\n",
       "      <td>200540</td>\n",
       "      <td>315986</td>\n",
       "      <td>POINT (-73.81867945834878 40.79411066708779)</td>\n",
       "      <td>21</td>\n",
       "      <td>0</td>\n",
       "      <td>OnCurb</td>\n",
       "      <td>Alive</td>\n",
       "      <td>Fair</td>\n",
       "      <td>Quercus palustris</td>\n",
       "      <td>...</td>\n",
       "      <td>27</td>\n",
       "      <td>11</td>\n",
       "      <td>QN49</td>\n",
       "      <td>Whitestone</td>\n",
       "      <td>4097300</td>\n",
       "      <td>New York</td>\n",
       "      <td>40.794111</td>\n",
       "      <td>-73.818679</td>\n",
       "      <td>1.034456e+06</td>\n",
       "      <td>228644.837379</td>\n",
       "    </tr>\n",
       "  </tbody>\n",
       "</table>\n",
       "<p>2 rows × 42 columns</p>\n",
       "</div>"
      ],
      "text/plain": [
       "  created_at  tree_id  block_id  \\\n",
       "0 2015-08-27   180683    348711   \n",
       "1 2015-09-03   200540    315986   \n",
       "\n",
       "                                        the_geom  tree_dbh  stump_diam  \\\n",
       "0  POINT (-73.84421521958048 40.723091773924274)         3           0   \n",
       "1   POINT (-73.81867945834878 40.79411066708779)        21           0   \n",
       "\n",
       "  curb_loc status health          spc_latin  ... st_assem st_senate   nta  \\\n",
       "0   OnCurb  Alive   Fair        Acer rubrum  ...       28        16  QN17   \n",
       "1   OnCurb  Alive   Fair  Quercus palustris  ...       27        11  QN49   \n",
       "\n",
       "       nta_name  boro_ct     state   latitude  longitude          x_sp  \\\n",
       "0  Forest Hills  4073900  New York  40.723092 -73.844215  1.027431e+06   \n",
       "1    Whitestone  4097300  New York  40.794111 -73.818679  1.034456e+06   \n",
       "\n",
       "            y_sp  \n",
       "0  202756.768749  \n",
       "1  228644.837379  \n",
       "\n",
       "[2 rows x 42 columns]"
      ]
     },
     "execution_count": 72,
     "metadata": {},
     "output_type": "execute_result"
    }
   ],
   "source": [
    "trees[0:2]"
   ]
  },
  {
   "cell_type": "code",
   "execution_count": null,
   "metadata": {},
   "outputs": [],
   "source": []
  }
 ],
 "metadata": {
  "kernelspec": {
   "display_name": "Python 3",
   "language": "python",
   "name": "python3"
  },
  "language_info": {
   "codemirror_mode": {
    "name": "ipython",
    "version": 3
   },
   "file_extension": ".py",
   "mimetype": "text/x-python",
   "name": "python",
   "nbconvert_exporter": "python",
   "pygments_lexer": "ipython3",
   "version": "3.7.3"
  }
 },
 "nbformat": 4,
 "nbformat_minor": 2
}
